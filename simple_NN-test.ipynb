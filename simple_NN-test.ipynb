{
 "cells": [
  {
   "cell_type": "code",
   "execution_count": 1,
   "metadata": {},
   "outputs": [],
   "source": [
    "import numpy as np\n",
    "import tensorflow as tf\n",
    "import matplotlib.pyplot as plt"
   ]
  },
  {
   "cell_type": "code",
   "execution_count": 2,
   "metadata": {},
   "outputs": [],
   "source": [
    "x = np.arange(1000)\n",
    "np.random.shuffle(x)\n",
    "x = x.reshape((1000,1))\n",
    "y = np.arange(1000)\n",
    "np.random.shuffle(y)\n",
    "y = y.reshape((1000,1))\n",
    "z = np.arange(1000)\n",
    "np.random.shuffle(z)\n",
    "z = z.reshape((1000,1))\n",
    "target = 5*x-3*y+2*z+1\n",
    "\n",
    "feature = np.hstack((np.hstack((x,y)),z))/100\n",
    "feature = feature.reshape(1000,3)\n",
    "target = target.reshape(1000,1)/100"
   ]
  },
  {
   "cell_type": "code",
   "execution_count": 3,
   "metadata": {},
   "outputs": [
    {
     "data": {
      "image/png": "[encoded data removed]",
      "text/plain": [
       "<Figure size 432x288 with 3 Axes>"
      ]
     },
     "metadata": {
      "needs_background": "light"
     },
     "output_type": "display_data"
    }
   ],
   "source": [
    "%matplotlib inline\n",
    "data = np.transpose(feature)\n",
    "\n",
    "fig, axs = plt.subplots(3)\n",
    "\n",
    "p1 = axs[0].scatter(data[0], target, c='b', s=1)\n",
    "p2 = axs[1].scatter(data[1], target, c='r', s=1)\n",
    "p3 = axs[2].scatter(data[2], target, c='y', s=1)\n",
    "plt.show()"
   ]
  },
  {
   "cell_type": "code",
   "execution_count": 4,
   "metadata": {},
   "outputs": [],
   "source": [
    "tr_images, tr_labels, te_images, te_labels = feature[:800], target[:800], feature[800:], target[800:]"
   ]
  },
  {
   "cell_type": "code",
   "execution_count": 5,
   "metadata": {},
   "outputs": [],
   "source": [
    "X = tf.placeholder(tf.float32, shape=(None, 3), name=\"X\")\n",
    "y = tf.placeholder(tf.float32, shape=(None, 1), name=\"y\")"
   ]
  },
  {
   "cell_type": "code",
   "execution_count": 6,
   "metadata": {},
   "outputs": [],
   "source": [
    "with tf.name_scope(\"dnn\"):\n",
    "    hidden1 = tf.layers.dense(X, 10, name=\"hidden1\", activation=tf.nn.relu)\n",
    "    hidden2 = tf.layers.dense(hidden1, 10, name=\"hidden2\", activation=tf.nn.relu)\n",
    "    hidden3 = tf.layers.dense(hidden2, 10, name=\"hidden3\", activation=tf.nn.relu)\n",
    "    hidden4 = tf.layers.dense(hidden3, 10, name=\"hidden4\", activation=tf.nn.relu)\n",
    "    output = tf.layers.dense(hidden4, 1, name=\"output\")"
   ]
  },
  {
   "cell_type": "code",
   "execution_count": 7,
   "metadata": {},
   "outputs": [],
   "source": [
    "with tf.name_scope(\"loss\"):\n",
    "    loss = tf.sqrt(tf.reduce_mean(tf.squared_difference(output, y), name=\"loss\"))"
   ]
  },
  {
   "cell_type": "code",
   "execution_count": 8,
   "metadata": {},
   "outputs": [],
   "source": [
    "learning_rate = 0.01"
   ]
  },
  {
   "cell_type": "code",
   "execution_count": 9,
   "metadata": {},
   "outputs": [],
   "source": [
    "with tf.name_scope(\"train\"):\n",
    "    optimizer = tf.train.GradientDescentOptimizer(learning_rate)\n",
    "    training_op = optimizer.minimize(loss)"
   ]
  },
  {
   "cell_type": "code",
   "execution_count": 10,
   "metadata": {},
   "outputs": [],
   "source": [
    "init = tf.global_variables_initializer()\n",
    "saver = tf.train.Saver()"
   ]
  },
  {
   "cell_type": "code",
   "execution_count": 11,
   "metadata": {},
   "outputs": [],
   "source": [
    "n_epochs = 100\n",
    "batch_size = 5\n",
    "min_loss = 0.1"
   ]
  },
  {
   "cell_type": "code",
   "execution_count": 12,
   "metadata": {},
   "outputs": [],
   "source": [
    "def batch(X, y, batch_size):\n",
    "    idx = np.arange(len(X))\n",
    "    n_batches = len(X) // batch_size\n",
    "    for batch_idx in np.array_split(idx, n_batches):\n",
    "        X_batch, y_batch = X[batch_idx], y[batch_idx]\n",
    "        yield X_batch, y_batch"
   ]
  },
  {
   "cell_type": "code",
   "execution_count": 13,
   "metadata": {},
   "outputs": [
    {
     "name": "stdout",
     "output_type": "stream",
     "text": [
      "INFO:tensorflow:Restoring parameters from ./simple_NN/simple_NN01.ckpt\n",
      "0 loss 1.787646\n",
      "10 loss 1.9348354\n",
      "20 loss 2.430297\n",
      "30 loss 0.94619524\n",
      "40 loss 1.2549638\n",
      "50 loss 0.8114374\n",
      "60 loss 0.81158626\n",
      "70 loss 2.2025223\n",
      "80 loss 1.0902598\n",
      "90 loss 0.7314635\n"
     ]
    }
   ],
   "source": [
    "with tf.Session() as sess:\n",
    "    ckpt = tf.train.get_checkpoint_state('./simple_NN')\n",
    "    if ckpt and tf.train.checkpoint_exists(ckpt.model_checkpoint_path):\n",
    "        saver.restore(sess, ckpt.model_checkpoint_path)\n",
    "        hypo = sess.run([output], feed_dict={X:te_images})\n",
    "    else:\n",
    "        sess.run(init)\n",
    "    for epoch in range(n_epochs):\n",
    "        for X_batch, y_batch in batch(tr_images, tr_labels, batch_size):\n",
    "            loss_, _ = sess.run([loss, training_op], feed_dict={X: X_batch, y: y_batch})\n",
    "        \n",
    "        if loss_ < min_loss:\n",
    "            best_epoch = epoch\n",
    "            break\n",
    "        if epoch % 10 == 0:\n",
    "            print(epoch, \"loss\", loss_)\n",
    "    \n",
    "    save_path = saver.save(sess, \"./simple_NN/simple_NN01.ckpt\")\n",
    "    writer = tf.summary.FileWriter(\"./simple_NN/simple_NN01logs\", sess.graph)\n",
    "        "
   ]
  },
  {
   "cell_type": "code",
   "execution_count": 14,
   "metadata": {},
   "outputs": [],
   "source": [
    "np.savetxt(\"./simple_NN_tr_images.csv\",tr_images,delimiter=',')\n",
    "np.savetxt(\"./simple_NN_tr_labels.csv\",tr_labels,delimiter=',')\n",
    "np.savetxt(\"./simple_NN_te_images.csv\",te_images,delimiter=',')\n",
    "np.savetxt(\"./simple_NN_te_labels.csv\",te_labels,delimiter=',')"
   ]
  },
  {
   "cell_type": "code",
   "execution_count": 15,
   "metadata": {},
   "outputs": [
    {
     "name": "stdout",
     "output_type": "stream",
     "text": [
      "[array([[ 1.5511208e+01],\n",
      "       [ 1.7552324e+01],\n",
      "       [ 2.9683647e+01],\n",
      "       [ 1.3583431e+00],\n",
      "       [ 1.7552324e+01],\n",
      "       [ 9.4259062e+00],\n",
      "       [ 3.1128603e+01],\n",
      "       [-1.7721115e+01],\n",
      "       [ 1.6668011e+01],\n",
      "       [ 1.6473806e+01],\n",
      "       [ 2.4852829e+00],\n",
      "       [ 1.7552324e+01],\n",
      "       [ 1.5603697e+01],\n",
      "       [ 2.6939383e+01],\n",
      "       [-2.4972901e+00],\n",
      "       [ 3.2381657e+01],\n",
      "       [ 1.0927248e+00],\n",
      "       [ 1.7552324e+01],\n",
      "       [-4.2861104e+00],\n",
      "       [ 2.3433752e+01],\n",
      "       [ 2.0833317e+01],\n",
      "       [ 2.2752832e+01],\n",
      "       [ 1.7552324e+01],\n",
      "       [ 2.4045843e+01],\n",
      "       [ 1.2467264e+01],\n",
      "       [ 2.9828381e+01],\n",
      "       [ 1.7552324e+01],\n",
      "       [ 1.7552324e+01],\n",
      "       [ 4.9088264e+00],\n",
      "       [-1.9033990e+00],\n",
      "       [ 1.2919469e+00],\n",
      "       [ 2.8440779e+01],\n",
      "       [ 2.5681042e+01],\n",
      "       [ 2.8471991e+01],\n",
      "       [ 6.9125605e-01],\n",
      "       [ 1.7552324e+01],\n",
      "       [ 1.7552324e+01],\n",
      "       [ 3.7590042e+01],\n",
      "       [ 2.0958872e+01],\n",
      "       [ 2.0948612e+01],\n",
      "       [ 1.4043674e+01],\n",
      "       [ 2.2678514e+01],\n",
      "       [ 3.0436954e+01],\n",
      "       [ 1.1567914e+01],\n",
      "       [-3.9460626e+00],\n",
      "       [ 3.7298195e+01],\n",
      "       [-5.1584201e+00],\n",
      "       [ 5.1762714e+01],\n",
      "       [ 4.3409023e+00],\n",
      "       [ 1.2430660e+01],\n",
      "       [ 1.5748339e+00],\n",
      "       [-1.1974568e+00],\n",
      "       [ 2.0785555e+01],\n",
      "       [ 3.0587568e+00],\n",
      "       [ 4.4325871e+01],\n",
      "       [ 1.2465893e+01],\n",
      "       [ 1.7552324e+01],\n",
      "       [ 2.1298296e+01],\n",
      "       [ 1.7552324e+01],\n",
      "       [ 1.1045536e+01],\n",
      "       [ 2.4615145e+00],\n",
      "       [ 2.0770258e+01],\n",
      "       [ 2.9120743e+01],\n",
      "       [ 4.0578003e+00],\n",
      "       [ 3.9111934e+00],\n",
      "       [ 1.3186724e+01],\n",
      "       [ 3.2612324e+00],\n",
      "       [ 1.7552324e+01],\n",
      "       [ 3.4671169e+01],\n",
      "       [ 2.8559269e+01],\n",
      "       [ 2.9120743e+01],\n",
      "       [-8.1273031e-01],\n",
      "       [ 3.3510804e+00],\n",
      "       [-7.6740026e-01],\n",
      "       [-8.6294117e+00],\n",
      "       [ 1.5455050e+00],\n",
      "       [-1.1923613e+01],\n",
      "       [ 2.3499434e+01],\n",
      "       [ 2.5689905e+01],\n",
      "       [ 1.4639828e+01],\n",
      "       [ 2.3348451e+00],\n",
      "       [ 1.7552324e+01],\n",
      "       [-1.2262693e+01],\n",
      "       [ 1.4901029e+01],\n",
      "       [ 1.7552324e+01],\n",
      "       [ 1.7552324e+01],\n",
      "       [ 2.1409996e+01],\n",
      "       [ 1.3703033e+01],\n",
      "       [ 2.4177710e+01],\n",
      "       [ 1.7757122e+01],\n",
      "       [ 4.2565544e+01],\n",
      "       [ 2.2376379e+01],\n",
      "       [ 3.5976475e+01],\n",
      "       [ 1.1702797e+01],\n",
      "       [-2.2526956e+00],\n",
      "       [ 3.2572789e+00],\n",
      "       [ 1.7552324e+01],\n",
      "       [ 2.3798586e+01],\n",
      "       [ 3.5553024e+01],\n",
      "       [-1.1741690e+01],\n",
      "       [ 4.4433903e+01],\n",
      "       [ 3.8786011e+01],\n",
      "       [ 2.2836510e+01],\n",
      "       [ 1.0017219e+00],\n",
      "       [ 4.6882374e+01],\n",
      "       [ 4.0139175e+01],\n",
      "       [ 1.3969017e+01],\n",
      "       [ 2.6820875e+01],\n",
      "       [-2.6375341e-01],\n",
      "       [ 3.4087994e+01],\n",
      "       [ 1.6978741e-02],\n",
      "       [-9.5467319e+00],\n",
      "       [ 4.9432783e+00],\n",
      "       [ 1.4172813e+01],\n",
      "       [ 2.4519697e+01],\n",
      "       [ 1.7552324e+01],\n",
      "       [ 1.7421936e+01],\n",
      "       [ 2.0862118e+01],\n",
      "       [ 1.9102201e+01],\n",
      "       [ 2.5577263e+01],\n",
      "       [ 1.7552324e+01],\n",
      "       [ 2.9120743e+01],\n",
      "       [ 1.7552324e+01],\n",
      "       [ 4.2057251e+01],\n",
      "       [ 1.6897419e+01],\n",
      "       [ 1.4098838e+01],\n",
      "       [ 4.3129581e+01],\n",
      "       [ 4.4018734e+01],\n",
      "       [-1.6396986e+01],\n",
      "       [ 7.3972797e-01],\n",
      "       [ 1.8127131e+01],\n",
      "       [ 8.2690763e+00],\n",
      "       [ 6.0340405e-02],\n",
      "       [-1.6311327e+01],\n",
      "       [ 1.7552324e+01],\n",
      "       [ 1.3391495e-01],\n",
      "       [ 4.9383636e+00],\n",
      "       [ 1.3283258e+01],\n",
      "       [ 1.5023861e+01],\n",
      "       [ 1.7923077e+01],\n",
      "       [-1.3275507e+01],\n",
      "       [ 4.0262554e+01],\n",
      "       [ 2.9120743e+01],\n",
      "       [-2.0696211e-01],\n",
      "       [ 1.8565240e+00],\n",
      "       [ 1.1026546e+01],\n",
      "       [ 2.4494128e+00],\n",
      "       [ 1.7552324e+01],\n",
      "       [ 2.8051376e-02],\n",
      "       [ 3.8142643e+01],\n",
      "       [-5.5508657e+00],\n",
      "       [ 3.7420013e+01],\n",
      "       [ 2.9120743e+01],\n",
      "       [ 1.5060098e+01],\n",
      "       [ 2.3850061e+01],\n",
      "       [ 3.0815125e+01],\n",
      "       [ 3.2232487e+01],\n",
      "       [ 2.7076983e+00],\n",
      "       [ 1.7552324e+01],\n",
      "       [ 1.4531759e+01],\n",
      "       [ 2.3053026e-01],\n",
      "       [ 2.6584480e+01],\n",
      "       [ 4.3146320e+01],\n",
      "       [ 1.7552324e+01],\n",
      "       [ 2.2039650e+01],\n",
      "       [ 9.4024315e+00],\n",
      "       [ 3.9122288e+01],\n",
      "       [ 2.9120743e+01],\n",
      "       [ 2.6267525e+01],\n",
      "       [ 3.0045706e+01],\n",
      "       [ 2.9120743e+01],\n",
      "       [ 2.2657663e+01],\n",
      "       [ 1.7552324e+01],\n",
      "       [ 2.4873869e+01],\n",
      "       [-7.2682538e+00],\n",
      "       [-1.5300832e+00],\n",
      "       [ 3.0881496e+01],\n",
      "       [ 1.7552324e+01],\n",
      "       [ 1.0756536e+01],\n",
      "       [-6.0803270e-01],\n",
      "       [ 5.4288757e+01],\n",
      "       [ 1.6371965e+01],\n",
      "       [ 1.7552324e+01],\n",
      "       [ 3.8820614e+01],\n",
      "       [-1.0609680e+01],\n",
      "       [ 1.1043362e+01],\n",
      "       [ 1.7552324e+01],\n",
      "       [-7.4812937e-01],\n",
      "       [ 1.9396902e+01],\n",
      "       [-1.4480352e+01],\n",
      "       [ 1.3425497e+01],\n",
      "       [ 2.6466049e+01],\n",
      "       [-2.6195350e+00],\n",
      "       [ 1.5059191e+01],\n",
      "       [-2.2701039e+00],\n",
      "       [ 1.2148326e+01],\n",
      "       [ 1.7552324e+01],\n",
      "       [ 2.6302774e+01],\n",
      "       [ 2.9120743e+01],\n",
      "       [ 5.7666788e+00]], dtype=float32)]\n"
     ]
    }
   ],
   "source": [
    "print(hypo)"
   ]
  },
  {
   "cell_type": "code",
   "execution_count": 16,
   "metadata": {},
   "outputs": [
    {
     "data": {
      "image/png": "[encoded data removed]",
      "text/plain": [
       "<Figure size 432x288 with 1 Axes>"
      ]
     },
     "metadata": {
      "needs_background": "light"
     },
     "output_type": "display_data"
    }
   ],
   "source": [
    "hypo = np.array(hypo).reshape((200,1))\n",
    "te_labels = np.array(te_labels).reshape((200,1))\n",
    "\n",
    "plt.plot(te_labels, te_labels, c='k')\n",
    "plt.scatter(te_labels, hypo, c='r', s=1)\n",
    "plt.show()"
   ]
  },
  {
   "cell_type": "code",
   "execution_count": null,
   "metadata": {},
   "outputs": [],
   "source": []
  }
 ],
 "metadata": {
  "kernelspec": {
   "display_name": "Python 3",
   "language": "python",
   "name": "python3"
  },
  "language_info": {
   "codemirror_mode": {
    "name": "ipython",
    "version": 3
   },
   "file_extension": ".py",
   "mimetype": "text/x-python",
   "name": "python",
   "nbconvert_exporter": "python",
   "pygments_lexer": "ipython3",
   "version": "3.6.5"
  }
 },
 "nbformat": 4,
 "nbformat_minor": 2
}
